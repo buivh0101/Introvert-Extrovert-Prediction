{
 "cells": [
  {
   "cell_type": "markdown",
   "id": "807f9a1f",
   "metadata": {
    "_cell_guid": "b1076dfc-b9ad-4769-8c92-a6c4dae69d19",
    "_uuid": "8f2839f25d086af736a60e9eeb907d3b93b6e0e5",
    "papermill": {
     "duration": 0.008886,
     "end_time": "2025-07-22T19:08:43.723444",
     "exception": false,
     "start_time": "2025-07-22T19:08:43.714558",
     "status": "completed"
    },
    "tags": []
   },
   "source": [
    "# Preparation"
   ]
  },
  {
   "cell_type": "markdown",
   "id": "abc23159",
   "metadata": {
    "papermill": {
     "duration": 0.007228,
     "end_time": "2025-07-22T19:08:43.738592",
     "exception": false,
     "start_time": "2025-07-22T19:08:43.731364",
     "status": "completed"
    },
    "tags": []
   },
   "source": [
    "### Import libraries"
   ]
  },
  {
   "cell_type": "code",
   "execution_count": 1,
   "id": "8695d008",
   "metadata": {
    "execution": {
     "iopub.execute_input": "2025-07-22T19:08:43.754548Z",
     "iopub.status.busy": "2025-07-22T19:08:43.754245Z",
     "iopub.status.idle": "2025-07-22T19:08:47.592170Z",
     "shell.execute_reply": "2025-07-22T19:08:47.591277Z"
    },
    "papermill": {
     "duration": 3.847823,
     "end_time": "2025-07-22T19:08:47.593809",
     "exception": false,
     "start_time": "2025-07-22T19:08:43.745986",
     "status": "completed"
    },
    "tags": []
   },
   "outputs": [],
   "source": [
    "import pandas as pd              # For data manipulation and analysis\n",
    "import numpy as np               # For numerical computing\n",
    "from datetime import datetime\n",
    "from scipy.stats import trim_mean, kurtosis, skew, boxcox, yeojohnson      # For statistical analysis\n",
    "from math import sqrt\n",
    "import matplotlib                # For plotting and visualization\n",
    "import matplotlib.pyplot as plt  \n",
    "from pandas.plotting import parallel_coordinates\n",
    "import seaborn as sns            # For statistical data visualization\n",
    "%matplotlib inline\n",
    "import warnings\n",
    "warnings.filterwarnings(\"ignore\")"
   ]
  },
  {
   "cell_type": "code",
   "execution_count": 2,
   "id": "6d0f10a9",
   "metadata": {
    "execution": {
     "iopub.execute_input": "2025-07-22T19:08:47.611457Z",
     "iopub.status.busy": "2025-07-22T19:08:47.611040Z",
     "iopub.status.idle": "2025-07-22T19:08:55.066868Z",
     "shell.execute_reply": "2025-07-22T19:08:55.066024Z"
    },
    "papermill": {
     "duration": 7.466273,
     "end_time": "2025-07-22T19:08:55.068808",
     "exception": false,
     "start_time": "2025-07-22T19:08:47.602535",
     "status": "completed"
    },
    "tags": []
   },
   "outputs": [],
   "source": [
    "from sklearn.preprocessing import LabelEncoder, StandardScaler, OneHotEncoder\n",
    "from sklearn.model_selection import train_test_split, KFold,cross_val_score\n",
    "from sklearn.feature_selection import VarianceThreshold\n",
    "from sklearn.metrics import (accuracy_score, precision_score, recall_score,\n",
    "                             f1_score, confusion_matrix, classification_report)\n",
    "from sklearn.model_selection import StratifiedKFold, cross_val_score\n",
    "from xgboost import XGBClassifier\n",
    "from lightgbm import LGBMClassifier\n",
    "from catboost import CatBoostClassifier\n",
    "from sklearn.linear_model import LogisticRegression\n",
    "from sklearn.svm import SVC\n",
    "from sklearn.ensemble import RandomForestClassifier\n",
    "from sklearn.neighbors import KNeighborsClassifier\n",
    "from sklearn.ensemble import GradientBoostingClassifier, VotingClassifier\n",
    "from sklearn.impute import SimpleImputer\n",
    "\n",
    "from sklearn.compose import ColumnTransformer\n",
    "from sklearn.pipeline import Pipeline\n",
    "\n",
    "import optuna"
   ]
  },
  {
   "cell_type": "markdown",
   "id": "ece0645c",
   "metadata": {
    "execution": {
     "iopub.execute_input": "2025-07-22T17:15:02.656539Z",
     "iopub.status.busy": "2025-07-22T17:15:02.655956Z",
     "iopub.status.idle": "2025-07-22T17:15:02.660456Z",
     "shell.execute_reply": "2025-07-22T17:15:02.659530Z",
     "shell.execute_reply.started": "2025-07-22T17:15:02.656515Z"
    },
    "papermill": {
     "duration": 0.007119,
     "end_time": "2025-07-22T19:08:55.083706",
     "exception": false,
     "start_time": "2025-07-22T19:08:55.076587",
     "status": "completed"
    },
    "tags": []
   },
   "source": [
    "### Import dataset"
   ]
  },
  {
   "cell_type": "code",
   "execution_count": 3,
   "id": "db269f0d",
   "metadata": {
    "execution": {
     "iopub.execute_input": "2025-07-22T19:08:55.100237Z",
     "iopub.status.busy": "2025-07-22T19:08:55.099590Z",
     "iopub.status.idle": "2025-07-22T19:08:55.172794Z",
     "shell.execute_reply": "2025-07-22T19:08:55.171691Z"
    },
    "papermill": {
     "duration": 0.083461,
     "end_time": "2025-07-22T19:08:55.174595",
     "exception": false,
     "start_time": "2025-07-22T19:08:55.091134",
     "status": "completed"
    },
    "tags": []
   },
   "outputs": [],
   "source": [
    "df_train = pd.read_csv('/kaggle/input/dataset/train.csv', index_col = 0)\n",
    "df_test = pd.read_csv('/kaggle/input/dataset/test.csv')"
   ]
  },
  {
   "cell_type": "code",
   "execution_count": 4,
   "id": "8a1b104b",
   "metadata": {
    "execution": {
     "iopub.execute_input": "2025-07-22T19:08:55.191321Z",
     "iopub.status.busy": "2025-07-22T19:08:55.190664Z",
     "iopub.status.idle": "2025-07-22T19:08:55.216333Z",
     "shell.execute_reply": "2025-07-22T19:08:55.215373Z"
    },
    "papermill": {
     "duration": 0.035585,
     "end_time": "2025-07-22T19:08:55.217882",
     "exception": false,
     "start_time": "2025-07-22T19:08:55.182297",
     "status": "completed"
    },
    "tags": []
   },
   "outputs": [
    {
     "data": {
      "text/html": [
       "<div>\n",
       "<style scoped>\n",
       "    .dataframe tbody tr th:only-of-type {\n",
       "        vertical-align: middle;\n",
       "    }\n",
       "\n",
       "    .dataframe tbody tr th {\n",
       "        vertical-align: top;\n",
       "    }\n",
       "\n",
       "    .dataframe thead th {\n",
       "        text-align: right;\n",
       "    }\n",
       "</style>\n",
       "<table border=\"1\" class=\"dataframe\">\n",
       "  <thead>\n",
       "    <tr style=\"text-align: right;\">\n",
       "      <th></th>\n",
       "      <th>Time_spent_Alone</th>\n",
       "      <th>Stage_fear</th>\n",
       "      <th>Social_event_attendance</th>\n",
       "      <th>Going_outside</th>\n",
       "      <th>Drained_after_socializing</th>\n",
       "      <th>Friends_circle_size</th>\n",
       "      <th>Post_frequency</th>\n",
       "      <th>Personality</th>\n",
       "    </tr>\n",
       "    <tr>\n",
       "      <th>id</th>\n",
       "      <th></th>\n",
       "      <th></th>\n",
       "      <th></th>\n",
       "      <th></th>\n",
       "      <th></th>\n",
       "      <th></th>\n",
       "      <th></th>\n",
       "      <th></th>\n",
       "    </tr>\n",
       "  </thead>\n",
       "  <tbody>\n",
       "    <tr>\n",
       "      <th>0</th>\n",
       "      <td>0.0</td>\n",
       "      <td>No</td>\n",
       "      <td>6.0</td>\n",
       "      <td>4.0</td>\n",
       "      <td>No</td>\n",
       "      <td>15.0</td>\n",
       "      <td>5.0</td>\n",
       "      <td>Extrovert</td>\n",
       "    </tr>\n",
       "    <tr>\n",
       "      <th>1</th>\n",
       "      <td>1.0</td>\n",
       "      <td>No</td>\n",
       "      <td>7.0</td>\n",
       "      <td>3.0</td>\n",
       "      <td>No</td>\n",
       "      <td>10.0</td>\n",
       "      <td>8.0</td>\n",
       "      <td>Extrovert</td>\n",
       "    </tr>\n",
       "    <tr>\n",
       "      <th>2</th>\n",
       "      <td>6.0</td>\n",
       "      <td>Yes</td>\n",
       "      <td>1.0</td>\n",
       "      <td>0.0</td>\n",
       "      <td>NaN</td>\n",
       "      <td>3.0</td>\n",
       "      <td>0.0</td>\n",
       "      <td>Introvert</td>\n",
       "    </tr>\n",
       "    <tr>\n",
       "      <th>3</th>\n",
       "      <td>3.0</td>\n",
       "      <td>No</td>\n",
       "      <td>7.0</td>\n",
       "      <td>3.0</td>\n",
       "      <td>No</td>\n",
       "      <td>11.0</td>\n",
       "      <td>5.0</td>\n",
       "      <td>Extrovert</td>\n",
       "    </tr>\n",
       "    <tr>\n",
       "      <th>4</th>\n",
       "      <td>1.0</td>\n",
       "      <td>No</td>\n",
       "      <td>4.0</td>\n",
       "      <td>4.0</td>\n",
       "      <td>No</td>\n",
       "      <td>13.0</td>\n",
       "      <td>NaN</td>\n",
       "      <td>Extrovert</td>\n",
       "    </tr>\n",
       "  </tbody>\n",
       "</table>\n",
       "</div>"
      ],
      "text/plain": [
       "    Time_spent_Alone Stage_fear  Social_event_attendance  Going_outside  \\\n",
       "id                                                                        \n",
       "0                0.0         No                      6.0            4.0   \n",
       "1                1.0         No                      7.0            3.0   \n",
       "2                6.0        Yes                      1.0            0.0   \n",
       "3                3.0         No                      7.0            3.0   \n",
       "4                1.0         No                      4.0            4.0   \n",
       "\n",
       "   Drained_after_socializing  Friends_circle_size  Post_frequency Personality  \n",
       "id                                                                             \n",
       "0                         No                 15.0             5.0   Extrovert  \n",
       "1                         No                 10.0             8.0   Extrovert  \n",
       "2                        NaN                  3.0             0.0   Introvert  \n",
       "3                         No                 11.0             5.0   Extrovert  \n",
       "4                         No                 13.0             NaN   Extrovert  "
      ]
     },
     "execution_count": 4,
     "metadata": {},
     "output_type": "execute_result"
    }
   ],
   "source": [
    "df_train.head()"
   ]
  },
  {
   "cell_type": "code",
   "execution_count": 5,
   "id": "32269000",
   "metadata": {
    "execution": {
     "iopub.execute_input": "2025-07-22T19:08:55.234820Z",
     "iopub.status.busy": "2025-07-22T19:08:55.234513Z",
     "iopub.status.idle": "2025-07-22T19:08:55.248260Z",
     "shell.execute_reply": "2025-07-22T19:08:55.247355Z"
    },
    "papermill": {
     "duration": 0.023781,
     "end_time": "2025-07-22T19:08:55.249731",
     "exception": false,
     "start_time": "2025-07-22T19:08:55.225950",
     "status": "completed"
    },
    "tags": []
   },
   "outputs": [
    {
     "data": {
      "text/html": [
       "<div>\n",
       "<style scoped>\n",
       "    .dataframe tbody tr th:only-of-type {\n",
       "        vertical-align: middle;\n",
       "    }\n",
       "\n",
       "    .dataframe tbody tr th {\n",
       "        vertical-align: top;\n",
       "    }\n",
       "\n",
       "    .dataframe thead th {\n",
       "        text-align: right;\n",
       "    }\n",
       "</style>\n",
       "<table border=\"1\" class=\"dataframe\">\n",
       "  <thead>\n",
       "    <tr style=\"text-align: right;\">\n",
       "      <th></th>\n",
       "      <th>id</th>\n",
       "      <th>Time_spent_Alone</th>\n",
       "      <th>Stage_fear</th>\n",
       "      <th>Social_event_attendance</th>\n",
       "      <th>Going_outside</th>\n",
       "      <th>Drained_after_socializing</th>\n",
       "      <th>Friends_circle_size</th>\n",
       "      <th>Post_frequency</th>\n",
       "    </tr>\n",
       "  </thead>\n",
       "  <tbody>\n",
       "    <tr>\n",
       "      <th>0</th>\n",
       "      <td>18524</td>\n",
       "      <td>3.0</td>\n",
       "      <td>No</td>\n",
       "      <td>7.0</td>\n",
       "      <td>4.0</td>\n",
       "      <td>No</td>\n",
       "      <td>6.0</td>\n",
       "      <td>NaN</td>\n",
       "    </tr>\n",
       "    <tr>\n",
       "      <th>1</th>\n",
       "      <td>18525</td>\n",
       "      <td>NaN</td>\n",
       "      <td>Yes</td>\n",
       "      <td>0.0</td>\n",
       "      <td>0.0</td>\n",
       "      <td>Yes</td>\n",
       "      <td>5.0</td>\n",
       "      <td>1.0</td>\n",
       "    </tr>\n",
       "    <tr>\n",
       "      <th>2</th>\n",
       "      <td>18526</td>\n",
       "      <td>3.0</td>\n",
       "      <td>No</td>\n",
       "      <td>5.0</td>\n",
       "      <td>6.0</td>\n",
       "      <td>No</td>\n",
       "      <td>15.0</td>\n",
       "      <td>9.0</td>\n",
       "    </tr>\n",
       "    <tr>\n",
       "      <th>3</th>\n",
       "      <td>18527</td>\n",
       "      <td>3.0</td>\n",
       "      <td>No</td>\n",
       "      <td>4.0</td>\n",
       "      <td>4.0</td>\n",
       "      <td>No</td>\n",
       "      <td>5.0</td>\n",
       "      <td>6.0</td>\n",
       "    </tr>\n",
       "    <tr>\n",
       "      <th>4</th>\n",
       "      <td>18528</td>\n",
       "      <td>9.0</td>\n",
       "      <td>Yes</td>\n",
       "      <td>1.0</td>\n",
       "      <td>2.0</td>\n",
       "      <td>Yes</td>\n",
       "      <td>1.0</td>\n",
       "      <td>1.0</td>\n",
       "    </tr>\n",
       "  </tbody>\n",
       "</table>\n",
       "</div>"
      ],
      "text/plain": [
       "      id  Time_spent_Alone Stage_fear  Social_event_attendance  Going_outside  \\\n",
       "0  18524               3.0         No                      7.0            4.0   \n",
       "1  18525               NaN        Yes                      0.0            0.0   \n",
       "2  18526               3.0         No                      5.0            6.0   \n",
       "3  18527               3.0         No                      4.0            4.0   \n",
       "4  18528               9.0        Yes                      1.0            2.0   \n",
       "\n",
       "  Drained_after_socializing  Friends_circle_size  Post_frequency  \n",
       "0                        No                  6.0             NaN  \n",
       "1                       Yes                  5.0             1.0  \n",
       "2                        No                 15.0             9.0  \n",
       "3                        No                  5.0             6.0  \n",
       "4                       Yes                  1.0             1.0  "
      ]
     },
     "execution_count": 5,
     "metadata": {},
     "output_type": "execute_result"
    }
   ],
   "source": [
    "df_test.head()"
   ]
  },
  {
   "cell_type": "markdown",
   "id": "95cacb6c",
   "metadata": {
    "papermill": {
     "duration": 0.007621,
     "end_time": "2025-07-22T19:08:55.265552",
     "exception": false,
     "start_time": "2025-07-22T19:08:55.257931",
     "status": "completed"
    },
    "tags": []
   },
   "source": [
    "# EDA"
   ]
  },
  {
   "cell_type": "code",
   "execution_count": 6,
   "id": "f5175cc8",
   "metadata": {
    "execution": {
     "iopub.execute_input": "2025-07-22T19:08:55.282416Z",
     "iopub.status.busy": "2025-07-22T19:08:55.282112Z",
     "iopub.status.idle": "2025-07-22T19:08:55.292768Z",
     "shell.execute_reply": "2025-07-22T19:08:55.291801Z"
    },
    "papermill": {
     "duration": 0.021084,
     "end_time": "2025-07-22T19:08:55.294449",
     "exception": false,
     "start_time": "2025-07-22T19:08:55.273365",
     "status": "completed"
    },
    "tags": []
   },
   "outputs": [
    {
     "data": {
      "text/plain": [
       "Time_spent_Alone             1190\n",
       "Stage_fear                   1893\n",
       "Social_event_attendance      1180\n",
       "Going_outside                1466\n",
       "Drained_after_socializing    1149\n",
       "Friends_circle_size          1054\n",
       "Post_frequency               1264\n",
       "Personality                     0\n",
       "dtype: int64"
      ]
     },
     "execution_count": 6,
     "metadata": {},
     "output_type": "execute_result"
    }
   ],
   "source": [
    "df_train.isnull().sum()"
   ]
  },
  {
   "cell_type": "code",
   "execution_count": 7,
   "id": "14d23fbc",
   "metadata": {
    "execution": {
     "iopub.execute_input": "2025-07-22T19:08:55.312156Z",
     "iopub.status.busy": "2025-07-22T19:08:55.311788Z",
     "iopub.status.idle": "2025-07-22T19:08:55.320718Z",
     "shell.execute_reply": "2025-07-22T19:08:55.319808Z"
    },
    "papermill": {
     "duration": 0.019851,
     "end_time": "2025-07-22T19:08:55.322412",
     "exception": false,
     "start_time": "2025-07-22T19:08:55.302561",
     "status": "completed"
    },
    "tags": []
   },
   "outputs": [
    {
     "data": {
      "text/plain": [
       "id                             0\n",
       "Time_spent_Alone             425\n",
       "Stage_fear                   598\n",
       "Social_event_attendance      397\n",
       "Going_outside                466\n",
       "Drained_after_socializing    432\n",
       "Friends_circle_size          350\n",
       "Post_frequency               408\n",
       "dtype: int64"
      ]
     },
     "execution_count": 7,
     "metadata": {},
     "output_type": "execute_result"
    }
   ],
   "source": [
    "df_test.isnull().sum()"
   ]
  },
  {
   "cell_type": "code",
   "execution_count": 8,
   "id": "11f4e535",
   "metadata": {
    "execution": {
     "iopub.execute_input": "2025-07-22T19:08:55.340879Z",
     "iopub.status.busy": "2025-07-22T19:08:55.340511Z",
     "iopub.status.idle": "2025-07-22T19:08:55.364550Z",
     "shell.execute_reply": "2025-07-22T19:08:55.363289Z"
    },
    "papermill": {
     "duration": 0.034952,
     "end_time": "2025-07-22T19:08:55.366061",
     "exception": false,
     "start_time": "2025-07-22T19:08:55.331109",
     "status": "completed"
    },
    "tags": []
   },
   "outputs": [
    {
     "name": "stdout",
     "output_type": "stream",
     "text": [
      "<class 'pandas.core.frame.DataFrame'>\n",
      "Index: 18524 entries, 0 to 18523\n",
      "Data columns (total 8 columns):\n",
      " #   Column                     Non-Null Count  Dtype  \n",
      "---  ------                     --------------  -----  \n",
      " 0   Time_spent_Alone           17334 non-null  float64\n",
      " 1   Stage_fear                 16631 non-null  object \n",
      " 2   Social_event_attendance    17344 non-null  float64\n",
      " 3   Going_outside              17058 non-null  float64\n",
      " 4   Drained_after_socializing  17375 non-null  object \n",
      " 5   Friends_circle_size        17470 non-null  float64\n",
      " 6   Post_frequency             17260 non-null  float64\n",
      " 7   Personality                18524 non-null  object \n",
      "dtypes: float64(5), object(3)\n",
      "memory usage: 1.3+ MB\n"
     ]
    }
   ],
   "source": [
    "df_train.info()"
   ]
  },
  {
   "cell_type": "code",
   "execution_count": 9,
   "id": "613f781e",
   "metadata": {
    "execution": {
     "iopub.execute_input": "2025-07-22T19:08:55.384454Z",
     "iopub.status.busy": "2025-07-22T19:08:55.384065Z",
     "iopub.status.idle": "2025-07-22T19:08:55.396114Z",
     "shell.execute_reply": "2025-07-22T19:08:55.395229Z"
    },
    "papermill": {
     "duration": 0.023094,
     "end_time": "2025-07-22T19:08:55.397593",
     "exception": false,
     "start_time": "2025-07-22T19:08:55.374499",
     "status": "completed"
    },
    "tags": []
   },
   "outputs": [
    {
     "name": "stdout",
     "output_type": "stream",
     "text": [
      "<class 'pandas.core.frame.DataFrame'>\n",
      "RangeIndex: 6175 entries, 0 to 6174\n",
      "Data columns (total 8 columns):\n",
      " #   Column                     Non-Null Count  Dtype  \n",
      "---  ------                     --------------  -----  \n",
      " 0   id                         6175 non-null   int64  \n",
      " 1   Time_spent_Alone           5750 non-null   float64\n",
      " 2   Stage_fear                 5577 non-null   object \n",
      " 3   Social_event_attendance    5778 non-null   float64\n",
      " 4   Going_outside              5709 non-null   float64\n",
      " 5   Drained_after_socializing  5743 non-null   object \n",
      " 6   Friends_circle_size        5825 non-null   float64\n",
      " 7   Post_frequency             5767 non-null   float64\n",
      "dtypes: float64(5), int64(1), object(2)\n",
      "memory usage: 386.1+ KB\n"
     ]
    }
   ],
   "source": [
    "df_test.info()"
   ]
  },
  {
   "cell_type": "markdown",
   "id": "00d322cb",
   "metadata": {
    "papermill": {
     "duration": 0.007804,
     "end_time": "2025-07-22T19:08:55.413660",
     "exception": false,
     "start_time": "2025-07-22T19:08:55.405856",
     "status": "completed"
    },
    "tags": []
   },
   "source": [
    "#### **Observations**\n",
    "\n",
    "* Train dataset has 18524 rows x 9 columns. This includes 7 predictors, and Personality as the target of the model.\n",
    "\n",
    "* Test dataset has 6175 rows x 8 columns. This includes 7 predictors and 1 ID column (id). \n",
    "\n",
    "* Both datasets currently contain missing values, which will need to be addressed in the preprocessing steps.\n",
    "\n",
    "* The predictors consist of a mix of numerical and categorical data types:\n",
    "\n",
    "* Numerical features (float) include: Time_spent_Alone, Social_event_attendance, Going_outside, Friends_circle_size, Post_frequency. These columns represent continuous or count-based data.\n",
    "\n",
    "* Categorical features (object type) include: Stage_fear, Drained_after_socializing. These features will require encoding (e.g., One-Hot Encoding) before model training.\n",
    "\n",
    "* The Personality target of this model is categorical data (e.g., 'Extrovert', 'Introvert'), which will also need further engineering (e.g., Label Encoding) before model training."
   ]
  },
  {
   "cell_type": "markdown",
   "id": "41a165c9",
   "metadata": {
    "execution": {
     "iopub.execute_input": "2025-07-22T17:41:00.443584Z",
     "iopub.status.busy": "2025-07-22T17:41:00.443273Z",
     "iopub.status.idle": "2025-07-22T17:41:00.447766Z",
     "shell.execute_reply": "2025-07-22T17:41:00.446965Z",
     "shell.execute_reply.started": "2025-07-22T17:41:00.443561Z"
    },
    "papermill": {
     "duration": 0.008444,
     "end_time": "2025-07-22T19:08:55.430113",
     "exception": false,
     "start_time": "2025-07-22T19:08:55.421669",
     "status": "completed"
    },
    "tags": []
   },
   "source": [
    "# Visualization"
   ]
  },
  {
   "cell_type": "markdown",
   "id": "ebe2c3d0",
   "metadata": {
    "execution": {
     "iopub.execute_input": "2025-07-22T17:41:25.162935Z",
     "iopub.status.busy": "2025-07-22T17:41:25.162602Z",
     "iopub.status.idle": "2025-07-22T17:41:25.167190Z",
     "shell.execute_reply": "2025-07-22T17:41:25.166392Z",
     "shell.execute_reply.started": "2025-07-22T17:41:25.162908Z"
    },
    "papermill": {
     "duration": 0.069088,
     "end_time": "2025-07-22T19:08:55.507545",
     "exception": false,
     "start_time": "2025-07-22T19:08:55.438457",
     "status": "completed"
    },
    "tags": []
   },
   "source": [
    "### Univariate Analysis"
   ]
  },
  {
   "cell_type": "code",
   "execution_count": 10,
   "id": "f178688c",
   "metadata": {
    "execution": {
     "iopub.execute_input": "2025-07-22T19:08:55.527328Z",
     "iopub.status.busy": "2025-07-22T19:08:55.527017Z",
     "iopub.status.idle": "2025-07-22T19:08:55.775139Z",
     "shell.execute_reply": "2025-07-22T19:08:55.774310Z"
    },
    "papermill": {
     "duration": 0.259044,
     "end_time": "2025-07-22T19:08:55.776722",
     "exception": false,
     "start_time": "2025-07-22T19:08:55.517678",
     "status": "completed"
    },
    "tags": []
   },
   "outputs": [
    {
     "data": {
      "image/png": "[encoded data removed]",
      "text/plain": [
       "<Figure size 1000x600 with 1 Axes>"
      ]
     },
     "metadata": {},
     "output_type": "display_data"
    }
   ],
   "source": [
    "fig, ax = plt.subplots(figsize = (10,6))\n",
    "sns.light_palette(\"seagreen\", as_cmap = True)\n",
    "\n",
    "ax = sns.countplot(\n",
    "    data = df_train,\n",
    "    x = 'Personality',\n",
    "    palette = 'Spectral'\n",
    ")\n",
    "ax.set_title('Distribution of Target')\n",
    "ax.set_xlabel('')\n",
    "ax.set_ylabel('')\n",
    "ax.set_yticklabels('')\n",
    "ax.tick_params(left = False, bottom = False)\n",
    "\n",
    "ax.bar_label(ax.containers[0], \n",
    "             label_type = 'edge',\n",
    "             color = 'black',\n",
    "             fontsize = 10)\n",
    "\n",
    "sns.despine(left = True, top = True)"
   ]
  },
  {
   "cell_type": "code",
   "execution_count": 11,
   "id": "5c6780cf",
   "metadata": {
    "execution": {
     "iopub.execute_input": "2025-07-22T19:08:55.795536Z",
     "iopub.status.busy": "2025-07-22T19:08:55.794644Z",
     "iopub.status.idle": "2025-07-22T19:08:56.915886Z",
     "shell.execute_reply": "2025-07-22T19:08:56.915034Z"
    },
    "papermill": {
     "duration": 1.131992,
     "end_time": "2025-07-22T19:08:56.917427",
     "exception": false,
     "start_time": "2025-07-22T19:08:55.785435",
     "status": "completed"
    },
    "tags": []
   },
   "outputs": [
    {
     "data": {
      "image/png": "[encoded data removed]",
      "text/plain": [
       "<Figure size 2000x500 with 7 Axes>"
      ]
     },
     "metadata": {},
     "output_type": "display_data"
    }
   ],
   "source": [
    "plot_columns = [col for col in df_train.columns if col != 'Personality']\n",
    "\n",
    "fig, axes = plt.subplots(1, len(plot_columns), figsize=(20, 5))\n",
    "\n",
    "for i, column in enumerate(plot_columns):\n",
    "    sns.histplot(data=df_train, \n",
    "                 x=column, \n",
    "                 bins=df_train[column].nunique(), \n",
    "                 ax=axes[i])\n",
    "\n",
    "fig.tight_layout(h_pad=2)\n",
    "plt.subplots_adjust(top=0.9)\n",
    "plt.suptitle('Distribution of Predictors', fontsize=14)\n",
    "plt.show()"
   ]
  },
  {
   "cell_type": "markdown",
   "id": "96c42d24",
   "metadata": {
    "papermill": {
     "duration": 0.009462,
     "end_time": "2025-07-22T19:08:56.936785",
     "exception": false,
     "start_time": "2025-07-22T19:08:56.927323",
     "status": "completed"
    },
    "tags": []
   },
   "source": [
    "### Multivariate Analysis"
   ]
  },
  {
   "cell_type": "code",
   "execution_count": 12,
   "id": "025107ca",
   "metadata": {
    "execution": {
     "iopub.execute_input": "2025-07-22T19:08:56.957421Z",
     "iopub.status.busy": "2025-07-22T19:08:56.957090Z",
     "iopub.status.idle": "2025-07-22T19:08:57.376579Z",
     "shell.execute_reply": "2025-07-22T19:08:57.375430Z"
    },
    "papermill": {
     "duration": 0.432309,
     "end_time": "2025-07-22T19:08:57.378696",
     "exception": false,
     "start_time": "2025-07-22T19:08:56.946387",
     "status": "completed"
    },
    "tags": []
   },
   "outputs": [
    {
     "data": {
      "image/png": "[encoded data removed]",
      "text/plain": [
       "<Figure size 2500x1500 with 2 Axes>"
      ]
     },
     "metadata": {},
     "output_type": "display_data"
    }
   ],
   "source": [
    "fig, ax = plt.subplots(figsize = (25,15))\n",
    "df_features = df_train.select_dtypes(include='number')\n",
    "corr = df_features.corr()\n",
    "hm = sns.heatmap(corr,\n",
    "                annot = True,\n",
    "                ax = ax,\n",
    "                cmap = sns.color_palette(\"vlag\", as_cmap = True),\n",
    "                fmt = '.1f')\n",
    "fig.subplots_adjust(top = 0.95)\n",
    "plt.suptitle('Predictors Correlation Heatmap', fontsize = 14)\n",
    "plt.show()"
   ]
  },
  {
   "cell_type": "markdown",
   "id": "733869c8",
   "metadata": {
    "papermill": {
     "duration": 0.011341,
     "end_time": "2025-07-22T19:08:57.401339",
     "exception": false,
     "start_time": "2025-07-22T19:08:57.389998",
     "status": "completed"
    },
    "tags": []
   },
   "source": [
    "# Preprocessing"
   ]
  },
  {
   "cell_type": "markdown",
   "id": "35c3f4ff",
   "metadata": {
    "papermill": {
     "duration": 0.010684,
     "end_time": "2025-07-22T19:08:57.423563",
     "exception": false,
     "start_time": "2025-07-22T19:08:57.412879",
     "status": "completed"
    },
    "tags": []
   },
   "source": [
    "### Train/Test Split"
   ]
  },
  {
   "cell_type": "code",
   "execution_count": 13,
   "id": "c9aeec8c",
   "metadata": {
    "execution": {
     "iopub.execute_input": "2025-07-22T19:08:57.447256Z",
     "iopub.status.busy": "2025-07-22T19:08:57.446588Z",
     "iopub.status.idle": "2025-07-22T19:08:57.470469Z",
     "shell.execute_reply": "2025-07-22T19:08:57.469721Z"
    },
    "papermill": {
     "duration": 0.037699,
     "end_time": "2025-07-22T19:08:57.472160",
     "exception": false,
     "start_time": "2025-07-22T19:08:57.434461",
     "status": "completed"
    },
    "tags": []
   },
   "outputs": [],
   "source": [
    "X = df_train.drop(columns = 'Personality', axis = 1)\n",
    "y = df_train['Personality']\n",
    "\n",
    "X_train, X_valid, y_train, y_valid = train_test_split(X, y, test_size = 0.2 ,random_state = 42, stratify = y)"
   ]
  },
  {
   "cell_type": "markdown",
   "id": "d434f3b4",
   "metadata": {
    "papermill": {
     "duration": 0.010513,
     "end_time": "2025-07-22T19:08:57.493515",
     "exception": false,
     "start_time": "2025-07-22T19:08:57.483002",
     "status": "completed"
    },
    "tags": []
   },
   "source": [
    "### Label Encoder"
   ]
  },
  {
   "cell_type": "code",
   "execution_count": 14,
   "id": "f4fbe766",
   "metadata": {
    "execution": {
     "iopub.execute_input": "2025-07-22T19:08:57.517363Z",
     "iopub.status.busy": "2025-07-22T19:08:57.517069Z",
     "iopub.status.idle": "2025-07-22T19:08:57.525495Z",
     "shell.execute_reply": "2025-07-22T19:08:57.524660Z"
    },
    "papermill": {
     "duration": 0.022051,
     "end_time": "2025-07-22T19:08:57.527173",
     "exception": false,
     "start_time": "2025-07-22T19:08:57.505122",
     "status": "completed"
    },
    "tags": []
   },
   "outputs": [],
   "source": [
    "le = LabelEncoder()\n",
    "# Convert the target variable 'Target' to numerical data\n",
    "y_train = le.fit_transform(y_train)\n",
    "y_valid = le.transform(y_valid)"
   ]
  },
  {
   "cell_type": "code",
   "execution_count": 15,
   "id": "2040b342",
   "metadata": {
    "execution": {
     "iopub.execute_input": "2025-07-22T19:08:57.550410Z",
     "iopub.status.busy": "2025-07-22T19:08:57.550065Z",
     "iopub.status.idle": "2025-07-22T19:08:57.556554Z",
     "shell.execute_reply": "2025-07-22T19:08:57.555421Z"
    },
    "papermill": {
     "duration": 0.020791,
     "end_time": "2025-07-22T19:08:57.559015",
     "exception": false,
     "start_time": "2025-07-22T19:08:57.538224",
     "status": "completed"
    },
    "tags": []
   },
   "outputs": [],
   "source": [
    "num_cols = X.select_dtypes(include=['float64']).columns.tolist()\n",
    "cat_cols = X.select_dtypes(include=['object']).columns.tolist()"
   ]
  },
  {
   "cell_type": "code",
   "execution_count": 16,
   "id": "ade6cf4e",
   "metadata": {
    "execution": {
     "iopub.execute_input": "2025-07-22T19:08:57.583134Z",
     "iopub.status.busy": "2025-07-22T19:08:57.582759Z",
     "iopub.status.idle": "2025-07-22T19:08:57.588662Z",
     "shell.execute_reply": "2025-07-22T19:08:57.587440Z"
    },
    "papermill": {
     "duration": 0.020883,
     "end_time": "2025-07-22T19:08:57.591097",
     "exception": false,
     "start_time": "2025-07-22T19:08:57.570214",
     "status": "completed"
    },
    "tags": []
   },
   "outputs": [],
   "source": [
    "numerical_transformer = Pipeline(steps=[\n",
    "    ('imputer', SimpleImputer(strategy = 'median')),\n",
    "    ('scaler', StandardScaler())\n",
    "])\n",
    "\n",
    "categorical_transformer = Pipeline(steps=[\n",
    "    ('imputer', SimpleImputer(strategy = 'most_frequent')),\n",
    "    ('onehot', OneHotEncoder(handle_unknown='ignore', sparse_output=False))\n",
    "])"
   ]
  },
  {
   "cell_type": "code",
   "execution_count": 17,
   "id": "95d2670f",
   "metadata": {
    "execution": {
     "iopub.execute_input": "2025-07-22T19:08:57.616877Z",
     "iopub.status.busy": "2025-07-22T19:08:57.616539Z",
     "iopub.status.idle": "2025-07-22T19:08:57.695566Z",
     "shell.execute_reply": "2025-07-22T19:08:57.694392Z"
    },
    "papermill": {
     "duration": 0.094436,
     "end_time": "2025-07-22T19:08:57.697311",
     "exception": false,
     "start_time": "2025-07-22T19:08:57.602875",
     "status": "completed"
    },
    "tags": []
   },
   "outputs": [],
   "source": [
    "# Define the preprocessing for numerical and categorical columns\n",
    "preprocessor = ColumnTransformer(\n",
    "    transformers=[\n",
    "        ('num', numerical_transformer, num_cols),\n",
    "        ('cat', categorical_transformer, cat_cols)\n",
    "    ])\n",
    "\n",
    "# Fit and transform the training data\n",
    "X_train_processed = preprocessor.fit_transform(X_train)\n",
    "X_valid_processed = preprocessor.transform(X_valid)\n",
    "df_test_processed = preprocessor.transform(df_test)\n",
    "\n",
    "# Convert processed arrays back to DataFrames (optional)\n",
    "X_train_processed = pd.DataFrame(X_train_processed, columns=preprocessor.get_feature_names_out())\n",
    "X_valid_processed = pd.DataFrame(X_valid_processed, columns=preprocessor.get_feature_names_out())\n",
    "df_test_processed = pd.DataFrame(df_test_processed, columns=preprocessor.get_feature_names_out())\n",
    "\n",
    "# Keep dataframe names consistent\n",
    "X_train = X_train_processed\n",
    "X_valid = X_valid_processed\n",
    "df_test = df_test_processed"
   ]
  },
  {
   "cell_type": "markdown",
   "id": "4cd02919",
   "metadata": {
    "papermill": {
     "duration": 0.010486,
     "end_time": "2025-07-22T19:08:57.718762",
     "exception": false,
     "start_time": "2025-07-22T19:08:57.708276",
     "status": "completed"
    },
    "tags": []
   },
   "source": [
    "# Modeling & Hyperparameter Tuning"
   ]
  },
  {
   "cell_type": "markdown",
   "id": "b3fcb725",
   "metadata": {
    "papermill": {
     "duration": 0.010815,
     "end_time": "2025-07-22T19:08:57.741234",
     "exception": false,
     "start_time": "2025-07-22T19:08:57.730419",
     "status": "completed"
    },
    "tags": []
   },
   "source": [
    "### Random Forest"
   ]
  },
  {
   "cell_type": "code",
   "execution_count": 18,
   "id": "9d0a6094",
   "metadata": {
    "execution": {
     "iopub.execute_input": "2025-07-22T19:08:57.764680Z",
     "iopub.status.busy": "2025-07-22T19:08:57.764362Z",
     "iopub.status.idle": "2025-07-22T19:08:57.769051Z",
     "shell.execute_reply": "2025-07-22T19:08:57.768121Z"
    },
    "papermill": {
     "duration": 0.018637,
     "end_time": "2025-07-22T19:08:57.770587",
     "exception": false,
     "start_time": "2025-07-22T19:08:57.751950",
     "status": "completed"
    },
    "tags": []
   },
   "outputs": [],
   "source": [
    "#def objective(trial):\n",
    "#    params = {\n",
    "#        'n_estimators': trial.suggest_int('n_estimators', 50, 1000),\n",
    "#        'max_depth': trial.suggest_int('max_depth', 5, 25),\n",
    "#        'min_samples_split': trial.suggest_int('min_samples_split', 2, 20),\n",
    "#        'min_samples_leaf': trial.suggest_int('min_samples_leaf', 1, 10),\n",
    "#        'max_features': trial.suggest_float('max_features', 0.1, 1.0),\n",
    "#        'bootstrap': trial.suggest_categorical('bootstrap', [True, False]),\n",
    "#        'random_state': 42,\n",
    "#    }\n",
    "#\n",
    "#    model = RandomForestClassifier(**params)\n",
    "#\n",
    "#    kf = StratifiedKFold(n_splits=5, shuffle=True, random_state=42)\n",
    "#    scores = cross_val_score(model, X_train, y_train, cv=kf, scoring='accuracy', n_jobs=-1)\n",
    "#    return scores.mean()\n",
    "#\n",
    "## Run Optuna Optimization \n",
    "#print(\"Starting Optuna optimization...\")\n",
    "#study = optuna.create_study(direction='maximize', study_name='RandomForest_Optimization')\n",
    "#study.optimize(objective, n_trials=50, show_progress_bar=True)\n",
    "#\n",
    "## Get and Print Best Parameters \n",
    "#best_params = study.best_params\n",
    "#print(\"\\nBest Hyperparameters found by Optuna:\", best_params)\n",
    "#print(\"Best cross-validation accuracy:\", study.best_value)"
   ]
  },
  {
   "cell_type": "markdown",
   "id": "8ee6f995",
   "metadata": {
    "papermill": {
     "duration": 0.01115,
     "end_time": "2025-07-22T19:08:57.792629",
     "exception": false,
     "start_time": "2025-07-22T19:08:57.781479",
     "status": "completed"
    },
    "tags": []
   },
   "source": [
    "Best Hyperparameters found by Optuna: {'n_estimators': 228, 'max_depth': 22, 'min_samples_split': 12, 'min_samples_leaf': 8, 'max_features': 0.48607326505610415, 'bootstrap': True}\n",
    "Best cross-validation accuracy: 0.9680815528267435\n"
   ]
  },
  {
   "cell_type": "code",
   "execution_count": 19,
   "id": "8c8c3c17",
   "metadata": {
    "execution": {
     "iopub.execute_input": "2025-07-22T19:08:57.815524Z",
     "iopub.status.busy": "2025-07-22T19:08:57.815187Z",
     "iopub.status.idle": "2025-07-22T19:09:10.837822Z",
     "shell.execute_reply": "2025-07-22T19:09:10.836880Z"
    },
    "papermill": {
     "duration": 13.035937,
     "end_time": "2025-07-22T19:09:10.839351",
     "exception": false,
     "start_time": "2025-07-22T19:08:57.803414",
     "status": "completed"
    },
    "tags": []
   },
   "outputs": [
    {
     "name": "stdout",
     "output_type": "stream",
     "text": [
      "Cross-Validation Scores: [0.97031039 0.97132254 0.96558704 0.96558704 0.96658792]\n",
      "Mean CV Score: 0.9678789870389778\n",
      "Accuracy on Validation Data: 0.9711201079622133\n"
     ]
    }
   ],
   "source": [
    "# Create Random Forest Model\n",
    "rf = RandomForestClassifier(\n",
    "    n_estimators=228,\n",
    "    max_depth=22,\n",
    "    min_samples_split=12,\n",
    "    min_samples_leaf=8,\n",
    "    max_features=0.48607326505610415,\n",
    "    bootstrap=True,\n",
    "    random_state=42\n",
    ")\n",
    "\n",
    "# Perform cross-validation\n",
    "cv_scores = cross_val_score(rf, X_train, y_train, cv=5, scoring='accuracy')\n",
    "\n",
    "# Print CV scores\n",
    "print(\"Cross-Validation Scores:\", cv_scores)\n",
    "print(\"Mean CV Score:\", cv_scores.mean())\n",
    "\n",
    "# Fit the model on the full training data\n",
    "rf.fit(X_train, y_train)\n",
    "\n",
    "# Predict on validation data\n",
    "y_pred = rf.predict(X_valid)\n",
    "\n",
    "# Calculate accuracy on validation data\n",
    "accuracy = accuracy_score(y_valid, y_pred)\n",
    "print(\"Accuracy on Validation Data:\", accuracy)"
   ]
  },
  {
   "cell_type": "markdown",
   "id": "8539d84e",
   "metadata": {
    "papermill": {
     "duration": 0.010351,
     "end_time": "2025-07-22T19:09:10.860571",
     "exception": false,
     "start_time": "2025-07-22T19:09:10.850220",
     "status": "completed"
    },
    "tags": []
   },
   "source": [
    "### XGBoost Classifier"
   ]
  },
  {
   "cell_type": "code",
   "execution_count": 20,
   "id": "3479fdf8",
   "metadata": {
    "execution": {
     "iopub.execute_input": "2025-07-22T19:09:10.883813Z",
     "iopub.status.busy": "2025-07-22T19:09:10.882901Z",
     "iopub.status.idle": "2025-07-22T19:09:10.887533Z",
     "shell.execute_reply": "2025-07-22T19:09:10.886718Z"
    },
    "papermill": {
     "duration": 0.017711,
     "end_time": "2025-07-22T19:09:10.888941",
     "exception": false,
     "start_time": "2025-07-22T19:09:10.871230",
     "status": "completed"
    },
    "tags": []
   },
   "outputs": [],
   "source": [
    "#def objective_xgb(trial):\n",
    "#    params = {\n",
    "#        'n_estimators': trial.suggest_int('n_estimators', 100, 1000),\n",
    "#        'max_depth': trial.suggest_int('max_depth', 3, 15),\n",
    "#        'learning_rate': trial.suggest_float('learning_rate', 0.01, 0.3),\n",
    "#        'subsample': trial.suggest_float('subsample', 0.5, 1.0),\n",
    "#        'colsample_bytree': trial.suggest_float('colsample_bytree', 0.5, 1.0),\n",
    "#        'gamma': trial.suggest_float('gamma', 0, 5),\n",
    "#        'random_state': 42,\n",
    "#        'use_label_encoder': False,\n",
    "#        'eval_metric': 'logloss'\n",
    "#    }\n",
    "#\n",
    "#    model = XGBClassifier(**params)\n",
    "#\n",
    "#    kf = StratifiedKFold(n_splits=5, shuffle=True, random_state=42)\n",
    "#    scores = cross_val_score(model, X_train, y_train, cv=kf, scoring='accuracy', n_jobs=-1)\n",
    "#    return scores.mean()\n",
    "#\n",
    "## Run Optuna Optimization \n",
    "#print(\"Starting Optuna optimization for XGBoost...\")\n",
    "#study_xgb = optuna.create_study(direction='maximize', study_name='XGBoost_Optimization')\n",
    "#study_xgb.optimize(objective_xgb, n_trials=50, show_progress_bar=True)\n",
    "#\n",
    "## Output Best Parameters and Accuracy \n",
    "#best_params_xgb = study_xgb.best_params\n",
    "#print(\"\\nBest Hyperparameters found by Optuna for XGBoost:\", best_params_xgb)\n",
    "#print(\"Best cross-validation accuracy:\", study_xgb.best_value)"
   ]
  },
  {
   "cell_type": "markdown",
   "id": "992d239f",
   "metadata": {
    "papermill": {
     "duration": 0.011153,
     "end_time": "2025-07-22T19:09:10.910853",
     "exception": false,
     "start_time": "2025-07-22T19:09:10.899700",
     "status": "completed"
    },
    "tags": []
   },
   "source": [
    "Best Hyperparameters found by Optuna for XGBoost: {'n_estimators': 315, 'max_depth': 6, 'learning_rate': 0.02305077382703422, 'subsample': 0.522448234931572, 'colsample_bytree': 0.5010027521071047, 'gamma': 4.171405926582666}\n",
    "Best cross-validation accuracy: 0.9682840047495358"
   ]
  },
  {
   "cell_type": "code",
   "execution_count": 21,
   "id": "99b3c128",
   "metadata": {
    "execution": {
     "iopub.execute_input": "2025-07-22T19:09:10.934426Z",
     "iopub.status.busy": "2025-07-22T19:09:10.933634Z",
     "iopub.status.idle": "2025-07-22T19:09:12.159543Z",
     "shell.execute_reply": "2025-07-22T19:09:12.158472Z"
    },
    "papermill": {
     "duration": 1.239092,
     "end_time": "2025-07-22T19:09:12.160877",
     "exception": false,
     "start_time": "2025-07-22T19:09:10.921785",
     "status": "completed"
    },
    "tags": []
   },
   "outputs": [
    {
     "name": "stdout",
     "output_type": "stream",
     "text": [
      "Cross-Validation Scores: [0.97064777 0.97165992 0.96626181 0.96592443 0.96658792]\n",
      "Mean CV Score: 0.9682163689553072\n",
      "Accuracy on Validation Data: 0.9713900134952766\n"
     ]
    }
   ],
   "source": [
    "# Create XGBoost model\n",
    "xgb = XGBClassifier(\n",
    "    n_estimators=315,\n",
    "    max_depth=6,\n",
    "    learning_rate=0.02305077382703422,\n",
    "    subsample=0.522448234931572,\n",
    "    colsample_bytree=0.5010027521071047,\n",
    "    gamma=4.171405926582666,\n",
    "    use_label_encoder=False,\n",
    "    eval_metric='logloss',\n",
    "    random_state=42\n",
    ")\n",
    "# Perform cross-validation\n",
    "cv_scores = cross_val_score(xgb, X_train, y_train, cv=5, scoring='accuracy')\n",
    "\n",
    "# Print CV scores\n",
    "print(\"Cross-Validation Scores:\", cv_scores)\n",
    "print(\"Mean CV Score:\", cv_scores.mean()) \n",
    "\n",
    "# Fit the model on the full training data\n",
    "xgb.fit(X_train, y_train)\n",
    "\n",
    "# Predict on validation data\n",
    "y_pred = xgb.predict(X_valid)\n",
    "\n",
    "# Calculate accuracy on validation data\n",
    "accuracy = accuracy_score(y_valid, y_pred)\n",
    "print(\"Accuracy on Validation Data:\", accuracy)"
   ]
  },
  {
   "cell_type": "markdown",
   "id": "6584b407",
   "metadata": {
    "papermill": {
     "duration": 0.01052,
     "end_time": "2025-07-22T19:09:12.182682",
     "exception": false,
     "start_time": "2025-07-22T19:09:12.172162",
     "status": "completed"
    },
    "tags": []
   },
   "source": [
    "### CatBoost Classifier"
   ]
  },
  {
   "cell_type": "code",
   "execution_count": 22,
   "id": "6047c4c8",
   "metadata": {
    "execution": {
     "iopub.execute_input": "2025-07-22T19:09:12.207553Z",
     "iopub.status.busy": "2025-07-22T19:09:12.206722Z",
     "iopub.status.idle": "2025-07-22T19:09:12.211479Z",
     "shell.execute_reply": "2025-07-22T19:09:12.210716Z"
    },
    "papermill": {
     "duration": 0.018805,
     "end_time": "2025-07-22T19:09:12.212781",
     "exception": false,
     "start_time": "2025-07-22T19:09:12.193976",
     "status": "completed"
    },
    "tags": []
   },
   "outputs": [],
   "source": [
    "#def objective_cat(trial):\n",
    "#    params = {\n",
    "#        'iterations': trial.suggest_int('iterations', 200, 1000),\n",
    "#        'depth': trial.suggest_int('depth', 4, 10),\n",
    "#        'learning_rate': trial.suggest_float('learning_rate', 0.01, 0.3),\n",
    "#        'l2_leaf_reg': trial.suggest_float('l2_leaf_reg', 1, 10),\n",
    "#        'random_state': 42,\n",
    "#        'verbose': 0\n",
    "#    }\n",
    "#\n",
    "#    model = CatBoostClassifier(**params)\n",
    "#\n",
    "#    kf = StratifiedKFold(n_splits=5, shuffle=True, random_state=42)\n",
    "#    scores = cross_val_score(model, X_train, y_train, cv=kf, scoring='accuracy', n_jobs=-1)\n",
    "#    return scores.mean()\n",
    "#\n",
    "## Run Optuna Optimization \n",
    "#print(\"Starting Optuna optimization for CatBoost...\")\n",
    "#study_cat = optuna.create_study(direction='maximize', study_name='CatBoost_Optimization')\n",
    "#study_cat.optimize(objective_cat, n_trials=50, show_progress_bar=True)\n",
    "#\n",
    "## Output Best Parameters and Accuracy \n",
    "#best_params_cat = study_cat.best_params\n",
    "#print(\"\\nBest Hyperparameters found by Optuna for CatBoost:\", best_params_cat)\n",
    "#print(\"Best cross-validation accuracy:\", study_cat.best_value)"
   ]
  },
  {
   "cell_type": "markdown",
   "id": "f1b98704",
   "metadata": {
    "papermill": {
     "duration": 0.010496,
     "end_time": "2025-07-22T19:09:12.234383",
     "exception": false,
     "start_time": "2025-07-22T19:09:12.223887",
     "status": "completed"
    },
    "tags": []
   },
   "source": [
    "Best Hyperparameters found by Optuna for CatBoost: {'iterations': 866, 'depth': 5, 'learning_rate': 0.010027362875444333, 'l2_leaf_reg': 8.201786308362875}\n",
    "Best cross-validation accuracy: 0.9682840275225304"
   ]
  },
  {
   "cell_type": "code",
   "execution_count": 23,
   "id": "845a4772",
   "metadata": {
    "execution": {
     "iopub.execute_input": "2025-07-22T19:09:12.257306Z",
     "iopub.status.busy": "2025-07-22T19:09:12.256924Z",
     "iopub.status.idle": "2025-07-22T19:09:27.727700Z",
     "shell.execute_reply": "2025-07-22T19:09:27.726689Z"
    },
    "papermill": {
     "duration": 15.484147,
     "end_time": "2025-07-22T19:09:27.729268",
     "exception": false,
     "start_time": "2025-07-22T19:09:12.245121",
     "status": "completed"
    },
    "tags": []
   },
   "outputs": [
    {
     "name": "stdout",
     "output_type": "stream",
     "text": [
      "Cross-Validation Scores: [0.97064777 0.97165992 0.96626181 0.96693657 0.96625042]\n",
      "Mean CV Score: 0.968351298948844\n",
      "Accuracy on Validation Data: 0.9713900134952766\n"
     ]
    }
   ],
   "source": [
    "# Create CatBoost model\n",
    "catb = CatBoostClassifier(\n",
    "    iterations=866,\n",
    "    depth=5,\n",
    "    learning_rate=0.010027362875444333,\n",
    "    l2_leaf_reg=8.201786308362875,\n",
    "    boosting_type='Plain',\n",
    "    bootstrap_type='Bernoulli',\n",
    "    random_state=42,\n",
    "    verbose=0\n",
    ")\n",
    "\n",
    "# Perform cross-validation\n",
    "cv_scores = cross_val_score(catb, X_train, y_train, cv=5, scoring='accuracy')\n",
    "\n",
    "# Print CV scores\n",
    "print(\"Cross-Validation Scores:\", cv_scores)\n",
    "print(\"Mean CV Score:\", cv_scores.mean())  \n",
    "\n",
    "# Fit the model on the full training data\n",
    "catb.fit(X_train, y_train)\n",
    "\n",
    "# Predict on validation data\n",
    "y_pred = catb.predict(X_valid)\n",
    "\n",
    "# Calculate accuracy on validation data\n",
    "accuracy = accuracy_score(y_valid, y_pred)\n",
    "print(\"Accuracy on Validation Data:\", accuracy)"
   ]
  },
  {
   "cell_type": "markdown",
   "id": "f3abc429",
   "metadata": {
    "papermill": {
     "duration": 0.011267,
     "end_time": "2025-07-22T19:09:27.751691",
     "exception": false,
     "start_time": "2025-07-22T19:09:27.740424",
     "status": "completed"
    },
    "tags": []
   },
   "source": [
    "# Importance Feature"
   ]
  },
  {
   "cell_type": "markdown",
   "id": "7ef79421",
   "metadata": {
    "papermill": {
     "duration": 0.010773,
     "end_time": "2025-07-22T19:09:27.773522",
     "exception": false,
     "start_time": "2025-07-22T19:09:27.762749",
     "status": "completed"
    },
    "tags": []
   },
   "source": [
    "### Random Forest"
   ]
  },
  {
   "cell_type": "code",
   "execution_count": 24,
   "id": "9f92f899",
   "metadata": {
    "execution": {
     "iopub.execute_input": "2025-07-22T19:09:27.797672Z",
     "iopub.status.busy": "2025-07-22T19:09:27.796814Z",
     "iopub.status.idle": "2025-07-22T19:09:28.106569Z",
     "shell.execute_reply": "2025-07-22T19:09:28.105692Z"
    },
    "papermill": {
     "duration": 0.323736,
     "end_time": "2025-07-22T19:09:28.108297",
     "exception": false,
     "start_time": "2025-07-22T19:09:27.784561",
     "status": "completed"
    },
    "tags": []
   },
   "outputs": [
    {
     "data": {
      "image/png": "[encoded data removed]",
      "text/plain": [
       "<Figure size 1000x800 with 1 Axes>"
      ]
     },
     "metadata": {},
     "output_type": "display_data"
    }
   ],
   "source": [
    "# Extract feature importances from the trained model\n",
    "importances = pd.Series(rf.feature_importances_, index=X_train.columns)\n",
    "\n",
    "# Sort and plot\n",
    "importances.sort_values(ascending=True).plot(kind=\"barh\", color=\"g\", figsize=(10, 8))\n",
    "plt.title(\"Random Forest - Feature Importances\")\n",
    "plt.xlabel(\"Importance Score\")\n",
    "plt.tight_layout()\n",
    "plt.show()"
   ]
  },
  {
   "cell_type": "markdown",
   "id": "7497cdce",
   "metadata": {
    "papermill": {
     "duration": 0.011443,
     "end_time": "2025-07-22T19:09:28.131710",
     "exception": false,
     "start_time": "2025-07-22T19:09:28.120267",
     "status": "completed"
    },
    "tags": []
   },
   "source": [
    "### XGBoost"
   ]
  },
  {
   "cell_type": "code",
   "execution_count": 25,
   "id": "0b104599",
   "metadata": {
    "execution": {
     "iopub.execute_input": "2025-07-22T19:09:28.156473Z",
     "iopub.status.busy": "2025-07-22T19:09:28.156186Z",
     "iopub.status.idle": "2025-07-22T19:09:28.388631Z",
     "shell.execute_reply": "2025-07-22T19:09:28.387746Z"
    },
    "papermill": {
     "duration": 0.246762,
     "end_time": "2025-07-22T19:09:28.390200",
     "exception": false,
     "start_time": "2025-07-22T19:09:28.143438",
     "status": "completed"
    },
    "tags": []
   },
   "outputs": [
    {
     "data": {
      "image/png": "[encoded data removed]",
      "text/plain": [
       "<Figure size 1000x800 with 1 Axes>"
      ]
     },
     "metadata": {},
     "output_type": "display_data"
    }
   ],
   "source": [
    "# Extract feature importances from the trained XGBoost model\n",
    "importances_xgb = pd.Series(xgb.feature_importances_, index=X_train.columns)\n",
    "\n",
    "# Sort and plot\n",
    "importances_xgb.sort_values(ascending=True).plot(kind=\"barh\", color=\"b\", figsize=(10, 8))\n",
    "plt.title(\"XGBoost - Feature Importances\")\n",
    "plt.xlabel(\"Importance Score\")\n",
    "plt.tight_layout()\n",
    "plt.show()"
   ]
  },
  {
   "cell_type": "markdown",
   "id": "c7bfd3c1",
   "metadata": {
    "papermill": {
     "duration": 0.012263,
     "end_time": "2025-07-22T19:09:28.415257",
     "exception": false,
     "start_time": "2025-07-22T19:09:28.402994",
     "status": "completed"
    },
    "tags": []
   },
   "source": [
    "### CatBoost"
   ]
  },
  {
   "cell_type": "code",
   "execution_count": 26,
   "id": "4f1d45b5",
   "metadata": {
    "execution": {
     "iopub.execute_input": "2025-07-22T19:09:28.441672Z",
     "iopub.status.busy": "2025-07-22T19:09:28.441355Z",
     "iopub.status.idle": "2025-07-22T19:09:28.673748Z",
     "shell.execute_reply": "2025-07-22T19:09:28.672757Z"
    },
    "papermill": {
     "duration": 0.247716,
     "end_time": "2025-07-22T19:09:28.675410",
     "exception": false,
     "start_time": "2025-07-22T19:09:28.427694",
     "status": "completed"
    },
    "tags": []
   },
   "outputs": [
    {
     "data": {
      "image/png": "[encoded data removed]",
      "text/plain": [
       "<Figure size 1000x800 with 1 Axes>"
      ]
     },
     "metadata": {},
     "output_type": "display_data"
    }
   ],
   "source": [
    "# Extract feature importances from the trained CatBoost model\n",
    "importances_catb = pd.Series(catb.get_feature_importance(), index=X_train.columns)\n",
    "\n",
    "# Sort and plot\n",
    "importances_catb.sort_values(ascending=True).plot(kind=\"barh\", color=\"purple\", figsize=(10, 8))\n",
    "plt.title(\"CatBoost - Feature Importances\")\n",
    "plt.xlabel(\"Importance Score\")\n",
    "plt.tight_layout()\n",
    "plt.show()"
   ]
  },
  {
   "cell_type": "markdown",
   "id": "43cc2925",
   "metadata": {
    "papermill": {
     "duration": 0.013191,
     "end_time": "2025-07-22T19:09:28.702998",
     "exception": false,
     "start_time": "2025-07-22T19:09:28.689807",
     "status": "completed"
    },
    "tags": []
   },
   "source": [
    "# Ensemble Models"
   ]
  },
  {
   "cell_type": "markdown",
   "id": "6e7162bc",
   "metadata": {
    "papermill": {
     "duration": 0.013178,
     "end_time": "2025-07-22T19:09:28.729408",
     "exception": false,
     "start_time": "2025-07-22T19:09:28.716230",
     "status": "completed"
    },
    "tags": []
   },
   "source": [
    "### Hard Voting"
   ]
  },
  {
   "cell_type": "code",
   "execution_count": 27,
   "id": "d09e76b1",
   "metadata": {
    "execution": {
     "iopub.execute_input": "2025-07-22T19:09:28.758678Z",
     "iopub.status.busy": "2025-07-22T19:09:28.758386Z",
     "iopub.status.idle": "2025-07-22T19:09:29.540070Z",
     "shell.execute_reply": "2025-07-22T19:09:29.539006Z"
    },
    "papermill": {
     "duration": 0.798336,
     "end_time": "2025-07-22T19:09:29.541630",
     "exception": false,
     "start_time": "2025-07-22T19:09:28.743294",
     "status": "completed"
    },
    "tags": []
   },
   "outputs": [
    {
     "name": "stdout",
     "output_type": "stream",
     "text": [
      "Majority Voting Accuracy: 0.97139\n"
     ]
    }
   ],
   "source": [
    "# Predict class labels\n",
    "rf_pred = rf.predict(X_valid)\n",
    "xgb_pred = xgb.predict(X_valid)\n",
    "catb_pred = catb.predict(X_valid)\n",
    "\n",
    "# Combine into DataFrame\n",
    "ensemble_preds = pd.DataFrame({\n",
    "    'RF': rf_pred,\n",
    "    'XGBoost': xgb_pred,\n",
    "    'CatBoost': catb_pred\n",
    "})\n",
    "\n",
    "# Majority Voting\n",
    "majority_vote = ensemble_preds.mode(axis=1).iloc[:, 0]\n",
    "\n",
    "# Evaluate\n",
    "print(f\"Majority Voting Accuracy: {accuracy_score(y_valid, majority_vote):.5f}\")"
   ]
  },
  {
   "cell_type": "markdown",
   "id": "a7938dda",
   "metadata": {
    "papermill": {
     "duration": 0.013248,
     "end_time": "2025-07-22T19:09:29.568572",
     "exception": false,
     "start_time": "2025-07-22T19:09:29.555324",
     "status": "completed"
    },
    "tags": []
   },
   "source": [
    "### Soft Voting"
   ]
  },
  {
   "cell_type": "code",
   "execution_count": 28,
   "id": "38cd5b5c",
   "metadata": {
    "execution": {
     "iopub.execute_input": "2025-07-22T19:09:29.597134Z",
     "iopub.status.busy": "2025-07-22T19:09:29.596782Z",
     "iopub.status.idle": "2025-07-22T19:09:29.751177Z",
     "shell.execute_reply": "2025-07-22T19:09:29.750327Z"
    },
    "papermill": {
     "duration": 0.170901,
     "end_time": "2025-07-22T19:09:29.752785",
     "exception": false,
     "start_time": "2025-07-22T19:09:29.581884",
     "status": "completed"
    },
    "tags": []
   },
   "outputs": [
    {
     "name": "stdout",
     "output_type": "stream",
     "text": [
      "Soft Voting Accuracy: 0.97112\n"
     ]
    }
   ],
   "source": [
    "# Predict probabilities\n",
    "rf_probs = rf.predict_proba(X_valid)\n",
    "xgb_probs = xgb.predict_proba(X_valid)\n",
    "catb_probs = catb.predict_proba(X_valid)\n",
    "\n",
    "# Average probabilities\n",
    "soft_vote_probs = (rf_probs + xgb_probs + catb_probs) / 3\n",
    "soft_vote = soft_vote_probs.argmax(axis=1)\n",
    "\n",
    "# Evaluate\n",
    "print(f\"Soft Voting Accuracy: {accuracy_score(y_valid, soft_vote):.5f}\")"
   ]
  },
  {
   "cell_type": "markdown",
   "id": "adf5cbb4",
   "metadata": {
    "papermill": {
     "duration": 0.013163,
     "end_time": "2025-07-22T19:09:29.779499",
     "exception": false,
     "start_time": "2025-07-22T19:09:29.766336",
     "status": "completed"
    },
    "tags": []
   },
   "source": [
    "# Submission"
   ]
  },
  {
   "cell_type": "code",
   "execution_count": 29,
   "id": "dababc24",
   "metadata": {
    "execution": {
     "iopub.execute_input": "2025-07-22T19:09:29.808578Z",
     "iopub.status.busy": "2025-07-22T19:09:29.807741Z",
     "iopub.status.idle": "2025-07-22T19:09:30.988010Z",
     "shell.execute_reply": "2025-07-22T19:09:30.987035Z"
    },
    "papermill": {
     "duration": 1.196603,
     "end_time": "2025-07-22T19:09:30.989652",
     "exception": false,
     "start_time": "2025-07-22T19:09:29.793049",
     "status": "completed"
    },
    "tags": []
   },
   "outputs": [
    {
     "data": {
      "text/html": [
       "<div>\n",
       "<style scoped>\n",
       "    .dataframe tbody tr th:only-of-type {\n",
       "        vertical-align: middle;\n",
       "    }\n",
       "\n",
       "    .dataframe tbody tr th {\n",
       "        vertical-align: top;\n",
       "    }\n",
       "\n",
       "    .dataframe thead th {\n",
       "        text-align: right;\n",
       "    }\n",
       "</style>\n",
       "<table border=\"1\" class=\"dataframe\">\n",
       "  <thead>\n",
       "    <tr style=\"text-align: right;\">\n",
       "      <th></th>\n",
       "      <th>id</th>\n",
       "      <th>Target</th>\n",
       "    </tr>\n",
       "  </thead>\n",
       "  <tbody>\n",
       "    <tr>\n",
       "      <th>0</th>\n",
       "      <td>18524</td>\n",
       "      <td>Extrovert</td>\n",
       "    </tr>\n",
       "    <tr>\n",
       "      <th>1</th>\n",
       "      <td>18525</td>\n",
       "      <td>Introvert</td>\n",
       "    </tr>\n",
       "    <tr>\n",
       "      <th>2</th>\n",
       "      <td>18526</td>\n",
       "      <td>Extrovert</td>\n",
       "    </tr>\n",
       "    <tr>\n",
       "      <th>3</th>\n",
       "      <td>18527</td>\n",
       "      <td>Extrovert</td>\n",
       "    </tr>\n",
       "    <tr>\n",
       "      <th>4</th>\n",
       "      <td>18528</td>\n",
       "      <td>Introvert</td>\n",
       "    </tr>\n",
       "  </tbody>\n",
       "</table>\n",
       "</div>"
      ],
      "text/plain": [
       "      id     Target\n",
       "0  18524  Extrovert\n",
       "1  18525  Introvert\n",
       "2  18526  Extrovert\n",
       "3  18527  Extrovert\n",
       "4  18528  Introvert"
      ]
     },
     "execution_count": 29,
     "metadata": {},
     "output_type": "execute_result"
    }
   ],
   "source": [
    "# Predict on test set\n",
    "rf_test_pred = rf.predict(df_test)\n",
    "xgb_test_pred = xgb.predict(df_test)\n",
    "catb_test_pred = catb.predict(df_test)\n",
    "\n",
    "# Ensemble\n",
    "ensemble_test = pd.DataFrame({\n",
    "    'RF': rf_test_pred,\n",
    "    'XGBoost': xgb_test_pred,\n",
    "    'CatBoost': catb_test_pred\n",
    "})\n",
    "final_test_pred = ensemble_test.mode(axis=1).iloc[:, 0]\n",
    "\n",
    "# Inverse label encoding\n",
    "final_test_pred = le.inverse_transform(final_test_pred)\n",
    "\n",
    "# Generate submission file\n",
    "sample_submission_df = pd.read_csv('/kaggle/input/dataset/sample_submission.csv')\n",
    "submission = pd.DataFrame({\n",
    "    'id': sample_submission_df['id'],\n",
    "    'Target': final_test_pred\n",
    "})\n",
    "submission.to_csv('submission.csv', index=False)\n",
    "submission.head()\n"
   ]
  }
 ],
 "metadata": {
  "kaggle": {
   "accelerator": "none",
   "dataSources": [
    {
     "datasetId": 7921790,
     "sourceId": 12546929,
     "sourceType": "datasetVersion"
    }
   ],
   "dockerImageVersionId": 31089,
   "isGpuEnabled": false,
   "isInternetEnabled": false,
   "language": "python",
   "sourceType": "notebook"
  },
  "kernelspec": {
   "display_name": "Python 3",
   "language": "python",
   "name": "python3"
  },
  "language_info": {
   "codemirror_mode": {
    "name": "ipython",
    "version": 3
   },
   "file_extension": ".py",
   "mimetype": "text/x-python",
   "name": "python",
   "nbconvert_exporter": "python",
   "pygments_lexer": "ipython3",
   "version": "3.11.13"
  },
  "papermill": {
   "default_parameters": {},
   "duration": 53.293069,
   "end_time": "2025-07-22T19:09:32.124217",
   "environment_variables": {},
   "exception": null,
   "input_path": "__notebook__.ipynb",
   "output_path": "__notebook__.ipynb",
   "parameters": {},
   "start_time": "2025-07-22T19:08:38.831148",
   "version": "2.6.0"
  }
 },
 "nbformat": 4,
 "nbformat_minor": 5
}
